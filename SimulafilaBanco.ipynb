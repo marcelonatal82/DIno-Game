{
  "nbformat": 4,
  "nbformat_minor": 0,
  "metadata": {
    "colab": {
      "name": "SimulafilaBanco",
      "provenance": [],
      "collapsed_sections": [],
      "authorship_tag": "ABX9TyMufabEmMlbtcx3E1urgzGr",
      "include_colab_link": true
    },
    "kernelspec": {
      "name": "python3",
      "display_name": "Python 3"
    },
    "language_info": {
      "name": "python"
    }
  },
  "cells": [
    {
      "cell_type": "markdown",
      "metadata": {
        "id": "view-in-github",
        "colab_type": "text"
      },
      "source": [
        "<a href=\"https://colab.research.google.com/github/marcelonatal82/DIno-Game/blob/master/SimulafilaBanco.ipynb\" target=\"_parent\"><img src=\"https://colab.research.google.com/assets/colab-badge.svg\" alt=\"Open In Colab\"/></a>"
      ]
    },
    {
      "cell_type": "code",
      "metadata": {
        "colab": {
          "base_uri": "https://localhost:8080/"
        },
        "id": "utIjsrRR3aOE",
        "outputId": "82785eb1-414e-4447-b8f4-14aa7b4309af"
      },
      "source": [
        "ultimo = 10\n",
        "fila = list(range(1, ultimo + 1))\n",
        "while True:\n",
        "  print(f\"\\n Existem {len(fila)} clientes na fila\")\n",
        "  print(f\"Fila atual: {fila}\")\n",
        "  print(\"Digite F para adicionar um cliente ao fim da fila,\")\n",
        "  print(\"ou A para realizar o atendimento. S para sair.\")\n",
        "  operação = input(\"Operação (F, A ou S):\")\n",
        "  if operação == \"A\":\n",
        "    if len(fila) >0:\n",
        "      atendido = fila.pop(0)\n",
        "      print(f\"Cliente {atendido} atendido\")\n",
        "    else:\n",
        "        print(\"Fila vazia! Ninguem para atender.\")\n",
        "  elif operação == \"F\":\n",
        "          ultimo += 1 #incrementar o ticket do novo cliente\n",
        "          fila.append(ultimo)\n",
        "  elif operação ==\"S\":\n",
        "          break\n",
        "  else:\n",
        "          print(\"Operação invalida! Digite apenas F, A ou S!\")"
      ],
      "execution_count": 2,
      "outputs": [
        {
          "output_type": "stream",
          "text": [
            "\n",
            " Existem 10 clientes na fila\n",
            "Fila atual: [1, 2, 3, 4, 5, 6, 7, 8, 9, 10]\n",
            "Digite F para adicionar um cliente ao fim da fila,\n",
            "ou A para realizar o atendimento. S para sair.\n",
            "Operação (F, A ou S):F\n",
            "\n",
            " Existem 11 clientes na fila\n",
            "Fila atual: [1, 2, 3, 4, 5, 6, 7, 8, 9, 10, 11]\n",
            "Digite F para adicionar um cliente ao fim da fila,\n",
            "ou A para realizar o atendimento. S para sair.\n",
            "Operação (F, A ou S):A\n",
            "Cliente 1 atendido\n",
            "\n",
            " Existem 10 clientes na fila\n",
            "Fila atual: [2, 3, 4, 5, 6, 7, 8, 9, 10, 11]\n",
            "Digite F para adicionar um cliente ao fim da fila,\n",
            "ou A para realizar o atendimento. S para sair.\n",
            "Operação (F, A ou S):A\n",
            "Cliente 2 atendido\n",
            "\n",
            " Existem 9 clientes na fila\n",
            "Fila atual: [3, 4, 5, 6, 7, 8, 9, 10, 11]\n",
            "Digite F para adicionar um cliente ao fim da fila,\n",
            "ou A para realizar o atendimento. S para sair.\n",
            "Operação (F, A ou S):A\n",
            "Cliente 3 atendido\n",
            "\n",
            " Existem 8 clientes na fila\n",
            "Fila atual: [4, 5, 6, 7, 8, 9, 10, 11]\n",
            "Digite F para adicionar um cliente ao fim da fila,\n",
            "ou A para realizar o atendimento. S para sair.\n",
            "Operação (F, A ou S):A\n",
            "Cliente 4 atendido\n",
            "\n",
            " Existem 7 clientes na fila\n",
            "Fila atual: [5, 6, 7, 8, 9, 10, 11]\n",
            "Digite F para adicionar um cliente ao fim da fila,\n",
            "ou A para realizar o atendimento. S para sair.\n",
            "Operação (F, A ou S):A\n",
            "Cliente 5 atendido\n",
            "\n",
            " Existem 6 clientes na fila\n",
            "Fila atual: [6, 7, 8, 9, 10, 11]\n",
            "Digite F para adicionar um cliente ao fim da fila,\n",
            "ou A para realizar o atendimento. S para sair.\n",
            "Operação (F, A ou S):A\n",
            "Cliente 6 atendido\n",
            "\n",
            " Existem 5 clientes na fila\n",
            "Fila atual: [7, 8, 9, 10, 11]\n",
            "Digite F para adicionar um cliente ao fim da fila,\n",
            "ou A para realizar o atendimento. S para sair.\n",
            "Operação (F, A ou S):S\n"
          ],
          "name": "stdout"
        }
      ]
    }
  ]
}